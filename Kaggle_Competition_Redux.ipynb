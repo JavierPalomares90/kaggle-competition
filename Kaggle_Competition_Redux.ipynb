{
 "cells": [
  {
   "cell_type": "markdown",
   "metadata": {},
   "source": [
    "# Kaggle Competition\n",
    "## Javier Palomares\n",
    "Instructions:\n",
    "This is the in class kaggle competition for Data Mining EE 380L. The data needed is in the Data page and you can view your position on the leaderboard. You will only be able to see your position on the public leaderboard. The public leaderboard uses a subset of the testing data that we give you to rank you. You can see your position here. However, there is also a private leaderboard that uses the remaining data in your test set. Please make sure to not overfit. Hopefully, if you do well in the public leaderboard, you will do well in the private leaderboard, but it is still possible to overfit the public leaderboard. Consider using your own validation schemes to get a sense of your generalization error as well.\n",
    "\n",
    "The kaggle competition is to be done individually. Please don't collaborate in any way as this is a competition amongst you all. You're ranking on both the public and private leaderboards will be part of your grade for this assignment. There is no other information on the features. Please explore the data to understand the features and decided how you want to proceed. Points will be given for creativity as well so try lots of different things (albeit with adequate justification and explanation for your approaches).\n",
    "\n",
    "As for your report for the competition, everyone should submit a pdf on Canvas detailing what they tried, why they tried it, what they think worked well and why, what they think didn't work well and why, as well as anything you think which makes your solution particularly creative. Please also include your kaggle username, so we know which score belongs to you, along with your public and private leaderboard score. The report will be due after the competition closes so you can see how you ended up."
   ]
  },
  {
   "cell_type": "markdown",
   "metadata": {},
   "source": [
    "## Reading the data"
   ]
  },
  {
   "cell_type": "code",
   "execution_count": 89,
   "metadata": {},
   "outputs": [],
   "source": [
    "import pandas as pd\n",
    "import numpy as np\n",
    "import seaborn as sns\n",
    "import matplotlib\n",
    "\n",
    "import matplotlib.pyplot as plt\n",
    "from scipy.stats import skew\n",
    "from scipy.stats.stats import pearsonr\n",
    "\n",
    "%config InlineBackend.figure_format = 'png' #set 'png' here when working on notebook\n",
    "%matplotlib inline\n",
    "matplotlib.rcParams['figure.figsize'] = (12.0, 6.0)"
   ]
  },
  {
   "cell_type": "code",
   "execution_count": 120,
   "metadata": {},
   "outputs": [],
   "source": [
    "def get_data():\n",
    "    train = pd.read_csv('./input/train_final.csv')\n",
    "    test = pd.read_csv('./input/test_final.csv')\n",
    "    return train,test\n",
    "def get_train_test():\n",
    "    train,test = get_data()\n",
    "    x_train= train.loc[:,'f1':'f24']\n",
    "    y = train.Y\n",
    "    x_test = test.loc[:,'f1':'f24']\n",
    "    ids = test.Id\n",
    "    return x_train,y,x_test,ids\n",
    "\n",
    "def plot_histogram_df(x):\n",
    "    features = x.columns\n",
    "    # plot the features 3 columns wide\n",
    "    ncols = 3\n",
    "    nrows = nrows = int(np.ceil(len(features) / (1.0*ncols)))\n",
    "    fig, axes = plt.subplots(nrows=nrows, ncols=ncols, figsize=(10, 10))\n",
    "    counter = 0\n",
    "    for i in range(nrows):\n",
    "        for j in range(ncols):\n",
    "            ax = axes[i][j]\n",
    "            if counter < len(features):\n",
    "                values = x[features[counter]]\n",
    "                ax.hist(values)\n",
    "                leg = ax.legend(loc='upper right')\n",
    "                leg.draw_frame(False)\n",
    "            else:\n",
    "                ax.set_axis_off()\n",
    "            counter +=1\n",
    "    plt.tight_layout()\n",
    "    plt.show()"
   ]
  },
  {
   "cell_type": "code",
   "execution_count": 91,
   "metadata": {},
   "outputs": [],
   "source": [
    "train,test = get_data()"
   ]
  },
  {
   "cell_type": "code",
   "execution_count": 4,
   "metadata": {},
   "outputs": [
    {
     "data": {
      "text/html": [
       "<div>\n",
       "<style scoped>\n",
       "    .dataframe tbody tr th:only-of-type {\n",
       "        vertical-align: middle;\n",
       "    }\n",
       "\n",
       "    .dataframe tbody tr th {\n",
       "        vertical-align: top;\n",
       "    }\n",
       "\n",
       "    .dataframe thead th {\n",
       "        text-align: right;\n",
       "    }\n",
       "</style>\n",
       "<table border=\"1\" class=\"dataframe\">\n",
       "  <thead>\n",
       "    <tr style=\"text-align: right;\">\n",
       "      <th></th>\n",
       "      <th>Id</th>\n",
       "      <th>Y</th>\n",
       "      <th>f1</th>\n",
       "      <th>f2</th>\n",
       "      <th>f3</th>\n",
       "      <th>f4</th>\n",
       "      <th>f5</th>\n",
       "      <th>f6</th>\n",
       "      <th>f7</th>\n",
       "      <th>f8</th>\n",
       "      <th>...</th>\n",
       "      <th>f15</th>\n",
       "      <th>f16</th>\n",
       "      <th>f17</th>\n",
       "      <th>f18</th>\n",
       "      <th>f19</th>\n",
       "      <th>f20</th>\n",
       "      <th>f21</th>\n",
       "      <th>f22</th>\n",
       "      <th>f23</th>\n",
       "      <th>f24</th>\n",
       "    </tr>\n",
       "  </thead>\n",
       "  <tbody>\n",
       "    <tr>\n",
       "      <th>0</th>\n",
       "      <td>1</td>\n",
       "      <td>1</td>\n",
       "      <td>25884</td>\n",
       "      <td>1</td>\n",
       "      <td>33.63</td>\n",
       "      <td>118596</td>\n",
       "      <td>1</td>\n",
       "      <td>0</td>\n",
       "      <td>118595</td>\n",
       "      <td>125738</td>\n",
       "      <td>...</td>\n",
       "      <td>1945</td>\n",
       "      <td>118450</td>\n",
       "      <td>119184</td>\n",
       "      <td>1</td>\n",
       "      <td>121372</td>\n",
       "      <td>1</td>\n",
       "      <td>1</td>\n",
       "      <td>1</td>\n",
       "      <td>2</td>\n",
       "      <td>1</td>\n",
       "    </tr>\n",
       "    <tr>\n",
       "      <th>1</th>\n",
       "      <td>2</td>\n",
       "      <td>1</td>\n",
       "      <td>34346</td>\n",
       "      <td>1</td>\n",
       "      <td>10.62</td>\n",
       "      <td>118041</td>\n",
       "      <td>1</td>\n",
       "      <td>0</td>\n",
       "      <td>117902</td>\n",
       "      <td>130913</td>\n",
       "      <td>...</td>\n",
       "      <td>15385</td>\n",
       "      <td>117945</td>\n",
       "      <td>292795</td>\n",
       "      <td>1</td>\n",
       "      <td>259173</td>\n",
       "      <td>1</td>\n",
       "      <td>1</td>\n",
       "      <td>1</td>\n",
       "      <td>1</td>\n",
       "      <td>1</td>\n",
       "    </tr>\n",
       "    <tr>\n",
       "      <th>2</th>\n",
       "      <td>3</td>\n",
       "      <td>1</td>\n",
       "      <td>34923</td>\n",
       "      <td>1</td>\n",
       "      <td>1.77</td>\n",
       "      <td>118327</td>\n",
       "      <td>1</td>\n",
       "      <td>0</td>\n",
       "      <td>117961</td>\n",
       "      <td>124402</td>\n",
       "      <td>...</td>\n",
       "      <td>7547</td>\n",
       "      <td>118933</td>\n",
       "      <td>290919</td>\n",
       "      <td>1</td>\n",
       "      <td>118784</td>\n",
       "      <td>1</td>\n",
       "      <td>1</td>\n",
       "      <td>1</td>\n",
       "      <td>1</td>\n",
       "      <td>1</td>\n",
       "    </tr>\n",
       "    <tr>\n",
       "      <th>3</th>\n",
       "      <td>4</td>\n",
       "      <td>1</td>\n",
       "      <td>80926</td>\n",
       "      <td>1</td>\n",
       "      <td>30.09</td>\n",
       "      <td>118300</td>\n",
       "      <td>1</td>\n",
       "      <td>0</td>\n",
       "      <td>117961</td>\n",
       "      <td>301218</td>\n",
       "      <td>...</td>\n",
       "      <td>4933</td>\n",
       "      <td>118458</td>\n",
       "      <td>118331</td>\n",
       "      <td>1</td>\n",
       "      <td>307024</td>\n",
       "      <td>1</td>\n",
       "      <td>1</td>\n",
       "      <td>1</td>\n",
       "      <td>2</td>\n",
       "      <td>1</td>\n",
       "    </tr>\n",
       "    <tr>\n",
       "      <th>4</th>\n",
       "      <td>5</td>\n",
       "      <td>1</td>\n",
       "      <td>4674</td>\n",
       "      <td>1</td>\n",
       "      <td>1.77</td>\n",
       "      <td>119921</td>\n",
       "      <td>1</td>\n",
       "      <td>0</td>\n",
       "      <td>119920</td>\n",
       "      <td>302830</td>\n",
       "      <td>...</td>\n",
       "      <td>13836</td>\n",
       "      <td>142145</td>\n",
       "      <td>4673</td>\n",
       "      <td>1</td>\n",
       "      <td>128230</td>\n",
       "      <td>1</td>\n",
       "      <td>1</td>\n",
       "      <td>1</td>\n",
       "      <td>620</td>\n",
       "      <td>1</td>\n",
       "    </tr>\n",
       "  </tbody>\n",
       "</table>\n",
       "<p>5 rows × 26 columns</p>\n",
       "</div>"
      ],
      "text/plain": [
       "   Id  Y     f1  f2     f3      f4  f5  f6      f7      f8 ...     f15  \\\n",
       "0   1  1  25884   1  33.63  118596   1   0  118595  125738 ...    1945   \n",
       "1   2  1  34346   1  10.62  118041   1   0  117902  130913 ...   15385   \n",
       "2   3  1  34923   1   1.77  118327   1   0  117961  124402 ...    7547   \n",
       "3   4  1  80926   1  30.09  118300   1   0  117961  301218 ...    4933   \n",
       "4   5  1   4674   1   1.77  119921   1   0  119920  302830 ...   13836   \n",
       "\n",
       "      f16     f17  f18     f19  f20  f21  f22  f23  f24  \n",
       "0  118450  119184    1  121372    1    1    1    2    1  \n",
       "1  117945  292795    1  259173    1    1    1    1    1  \n",
       "2  118933  290919    1  118784    1    1    1    1    1  \n",
       "3  118458  118331    1  307024    1    1    1    2    1  \n",
       "4  142145    4673    1  128230    1    1    1  620    1  \n",
       "\n",
       "[5 rows x 26 columns]"
      ]
     },
     "execution_count": 4,
     "metadata": {},
     "output_type": "execute_result"
    }
   ],
   "source": [
    "train.head()"
   ]
  },
  {
   "cell_type": "code",
   "execution_count": 92,
   "metadata": {},
   "outputs": [
    {
     "data": {
      "text/plain": [
       "(16383, 26)"
      ]
     },
     "execution_count": 92,
     "metadata": {},
     "output_type": "execute_result"
    }
   ],
   "source": [
    "train.shape"
   ]
  },
  {
   "cell_type": "code",
   "execution_count": 93,
   "metadata": {},
   "outputs": [
    {
     "data": {
      "text/plain": [
       "(16383, 24)"
      ]
     },
     "execution_count": 93,
     "metadata": {},
     "output_type": "execute_result"
    }
   ],
   "source": [
    "x_train,y,x_test,ids = get_train_test()\n",
    "features = x_train.columns\n",
    "x_train.shape"
   ]
  },
  {
   "cell_type": "code",
   "execution_count": 121,
   "metadata": {
    "scrolled": false
   },
   "outputs": [
    {
     "data": {
      "image/png": "[encoded data removed]",
      "text/plain": [
       "<Figure size 720x720 with 24 Axes>"
      ]
     },
     "metadata": {
      "needs_background": "light"
     },
     "output_type": "display_data"
    }
   ],
   "source": [
    "plot_histogram_df(x_train)"
   ]
  },
  {
   "cell_type": "code",
   "execution_count": 135,
   "metadata": {},
   "outputs": [
    {
     "data": {
      "text/plain": [
       "26.059061720301244"
      ]
     },
     "execution_count": 135,
     "metadata": {},
     "output_type": "execute_result"
    }
   ],
   "source": [
    "x_train.f21.max()"
   ]
  },
  {
   "cell_type": "code",
   "execution_count": 111,
   "metadata": {},
   "outputs": [
    {
     "data": {
      "text/plain": [
       "(array([  948.,     0.,     0.,     0.,     0.,     0.,     0.,     0.,\n",
       "            0., 15435.]),\n",
       " array([0. , 0.1, 0.2, 0.3, 0.4, 0.5, 0.6, 0.7, 0.8, 0.9, 1. ]),\n",
       " <a list of 10 Patch objects>)"
      ]
     },
     "execution_count": 111,
     "metadata": {},
     "output_type": "execute_result"
    },
    {
     "data": {
      "image/png": "[encoded data removed]",
      "text/plain": [
       "<Figure size 864x432 with 1 Axes>"
      ]
     },
     "metadata": {
      "needs_background": "light"
     },
     "output_type": "display_data"
    }
   ],
   "source": [
    "plt.hist(y)"
   ]
  },
  {
   "cell_type": "markdown",
   "metadata": {},
   "source": [
    "It looks like the y variable is binary classification variable"
   ]
  },
  {
   "cell_type": "markdown",
   "metadata": {},
   "source": [
    "## Data Preprocessing"
   ]
  },
  {
   "cell_type": "code",
   "execution_count": 37,
   "metadata": {},
   "outputs": [],
   "source": [
    "def get_numerical_features(x):\n",
    "    numeric_feats = x.dtypes[x.dtypes != \"object\"].index\n",
    "    return numeric_feats\n",
    "# take the log of skewed features in the testing and training data\n",
    "def log_norm_skewd_feats(skew_factor,x_train,x_test):\n",
    "    numeric_feats = get_numerical_features(x_train)\n",
    "    skewedness_factor = x_train[numeric_feats].apply(lambda x: skew(x.dropna())) #compute skewness\n",
    "    skewed_feats = skewedness_factor[skewedness_factor > skew_factor].index\n",
    "    #f1 has a negative value, don't log transform f1\n",
    "    skewed_feats = skewed_feats.delete(0)\n",
    "    # take the log of skewed features\n",
    "    x_train[skewed_feats] = np.log1p(x_train[skewed_feats])\n",
    "    x_test[skewed_feats] = np.log1p(x_test[skewed_feats])\n",
    "    return x_train,x_test\n",
    "\n",
    "def fill_nas_with_mean(x):\n",
    "    x = x.fillna(x.mean())\n",
    "    return x\n",
    "\n",
    "def get_binary_cols(df):\n",
    "    bin_cols = [col for col in df if \n",
    "               df[col].dropna().value_counts().index.isin([0,1]).all()]\n",
    "    return bin_cols\n",
    "def gauss_norm_data(x_train,x_test):\n",
    "    mu = np.mean(x_train,axis = 0)\n",
    "    sigma = np.std(x_train,axis=0)\n",
    "    x_train = (x_train - mu)/ sigma\n",
    "    x_test = (x_test - mu) / sigma\n",
    "    return x_train,x_test\n"
   ]
  },
  {
   "cell_type": "code",
   "execution_count": 28,
   "metadata": {},
   "outputs": [
    {
     "name": "stdout",
     "output_type": "stream",
     "text": [
      "Index(['f1', 'f2', 'f3', 'f4', 'f5', 'f6', 'f7', 'f8', 'f9', 'f10', 'f11',\n",
      "       'f12', 'f13', 'f14', 'f15', 'f16', 'f17', 'f18', 'f19', 'f20', 'f21',\n",
      "       'f22', 'f23', 'f24'],\n",
      "      dtype='object')\n"
     ]
    }
   ],
   "source": [
    "numeric_feats = get_numerical_features(x_train)\n",
    "print(numeric_feats)"
   ]
  },
  {
   "cell_type": "markdown",
   "metadata": {},
   "source": [
    "All features are numeric."
   ]
  },
  {
   "cell_type": "code",
   "execution_count": 37,
   "metadata": {},
   "outputs": [
    {
     "name": "stdout",
     "output_type": "stream",
     "text": [
      "[]\n"
     ]
    }
   ],
   "source": [
    "bin_cols = get_binary_cols(x_train)\n",
    "print(bin_cols)"
   ]
  },
  {
   "cell_type": "markdown",
   "metadata": {},
   "source": [
    "There's no binary columns (other than the y column)"
   ]
  },
  {
   "cell_type": "markdown",
   "metadata": {},
   "source": [
    "## Models\n",
    "\n",
    "### Logistic Regresssion"
   ]
  },
  {
   "cell_type": "markdown",
   "metadata": {},
   "source": [
    "I'll first try fitting a logistic regression classifier with no pre-processing"
   ]
  },
  {
   "cell_type": "code",
   "execution_count": 9,
   "metadata": {},
   "outputs": [],
   "source": [
    "from sklearn.model_selection import cross_val_score\n",
    "from sklearn.linear_model import LogisticRegression,LogisticRegressionCV\n",
    "from sklearn import metrics\n",
    "import datetime"
   ]
  },
  {
   "cell_type": "code",
   "execution_count": 10,
   "metadata": {},
   "outputs": [],
   "source": [
    "# function to compute the auc score\n",
    "def auc_score(y_pred_proba,y):\n",
    "    return metrics.roc_auc_score(y,y_pred_proba)\n",
    "def write_predictions(filename,header,ids,y_pred):\n",
    "    f = open(filename,'w')\n",
    "    numRows = len(ids)\n",
    "    f.write(header)\n",
    "    for i in range(numRows):\n",
    "        idNum = ids[i]\n",
    "        y = y_pred[i]\n",
    "        f.write(\"{},{}\\n\".format(idNum,y))\n",
    "    f.close()\n",
    "def get_prediction_proba(model,x_train,x_test):\n",
    "    y_train_proba = model.predict_proba(x_train)[:,1]\n",
    "    y_test_proba = model.predict_proba(x_test)[:,1]\n",
    "    return y_train_proba,y_test_proba\n",
    "    \n",
    "    "
   ]
  },
  {
   "cell_type": "code",
   "execution_count": 46,
   "metadata": {},
   "outputs": [],
   "source": [
    "x_train,y,x_test,ids = get_train_test()\n",
    "n_alphas = 200\n",
    "alphas = np.logspace(-5, 5, n_alphas).tolist()\n",
    "model_logistic = LogisticRegressionCV(Cs=alphas,cv=10,solver='liblinear').fit(x_train,y)"
   ]
  },
  {
   "cell_type": "code",
   "execution_count": 52,
   "metadata": {},
   "outputs": [],
   "source": [
    "# get the predictions from the model\n",
    "y_train_proba,y_test_proba = get_prediction_proba(model_logistic,x_train,x_test)"
   ]
  },
  {
   "cell_type": "code",
   "execution_count": 53,
   "metadata": {},
   "outputs": [
    {
     "data": {
      "text/plain": [
       "0.5325772704098718"
      ]
     },
     "execution_count": 53,
     "metadata": {},
     "output_type": "execute_result"
    }
   ],
   "source": [
    "auc_score(y_train_proba,y)"
   ]
  },
  {
   "cell_type": "code",
   "execution_count": 70,
   "metadata": {},
   "outputs": [],
   "source": [
    "write_predictions(\"predictions/logistic_regression_\"+datetime.datetime.now().isoformat() + \".csv\",\"Id,Y\\n\",ids,y_test_proba)"
   ]
  },
  {
   "cell_type": "markdown",
   "metadata": {},
   "source": [
    "With no pre processing, the auc score was 0.5325772704098718.\n",
    "\n",
    "\n",
    "Next I'll try taking log normalizing skewed columns and filling NA's with the mean"
   ]
  },
  {
   "cell_type": "code",
   "execution_count": 122,
   "metadata": {},
   "outputs": [
    {
     "data": {
      "image/png": "[encoded data removed]",
      "text/plain": [
       "<Figure size 720x720 with 24 Axes>"
      ]
     },
     "metadata": {
      "needs_background": "light"
     },
     "output_type": "display_data"
    }
   ],
   "source": [
    "x_train,y,x_test,ids = get_train_test()\n",
    "x_train = fill_nas_with_mean(x_train)\n",
    "x_train,x_test= log_norm_skewd_feats(.75,x_train,x_test)\n",
    "plot_histogram_df(x_train)"
   ]
  },
  {
   "cell_type": "markdown",
   "metadata": {},
   "source": [
    "Train the classifier on the log normalized data"
   ]
  },
  {
   "cell_type": "code",
   "execution_count": 63,
   "metadata": {},
   "outputs": [],
   "source": [
    "model_logistic_preproc = LogisticRegressionCV(Cs=alphas,cv=10,solver='liblinear').fit(x_train,y)"
   ]
  },
  {
   "cell_type": "markdown",
   "metadata": {},
   "source": [
    "get the predictions from this logistic regression"
   ]
  },
  {
   "cell_type": "code",
   "execution_count": 66,
   "metadata": {},
   "outputs": [],
   "source": [
    "y_train_preproc_proba,y_test_preproc_proba = get_prediction_proba(model_logistic_preproc,x_train,x_test)"
   ]
  },
  {
   "cell_type": "code",
   "execution_count": 67,
   "metadata": {},
   "outputs": [
    {
     "data": {
      "text/plain": [
       "0.5048381056260157"
      ]
     },
     "execution_count": 67,
     "metadata": {},
     "output_type": "execute_result"
    }
   ],
   "source": [
    "auc_score(y_train_preproc_proba,y)"
   ]
  },
  {
   "cell_type": "code",
   "execution_count": 76,
   "metadata": {},
   "outputs": [],
   "source": [
    "write_predictions(\"predictions/logistic_regression_preproc_\"+datetime.datetime.now().isoformat() + \".csv\",\"Id,Y\\n\",ids,y_test_preproc_proba)"
   ]
  },
  {
   "cell_type": "markdown",
   "metadata": {},
   "source": [
    "The auc score actually got worse with log normalization.\n",
    "I will try standardizing data to a gaussian instead"
   ]
  },
  {
   "cell_type": "code",
   "execution_count": 123,
   "metadata": {},
   "outputs": [
    {
     "data": {
      "image/png": "[encoded data removed]",
      "text/plain": [
       "<Figure size 720x720 with 24 Axes>"
      ]
     },
     "metadata": {
      "needs_background": "light"
     },
     "output_type": "display_data"
    }
   ],
   "source": [
    "x_train,y,x_test,ids = get_train_test()\n",
    "x_train = fill_nas_with_mean(x_train)\n",
    "x_train,x_test = gauss_norm_data(x_train,x_test)\n",
    "plot_histogram_df(x_train)"
   ]
  },
  {
   "cell_type": "code",
   "execution_count": 78,
   "metadata": {},
   "outputs": [],
   "source": [
    "\n",
    "model_logistic_norm = LogisticRegressionCV(Cs=alphas,cv=10,solver='liblinear').fit(x_train,y)"
   ]
  },
  {
   "cell_type": "code",
   "execution_count": 83,
   "metadata": {},
   "outputs": [],
   "source": [
    "y_train_pred_norm,y_test_pred_norm = get_prediction_proba(model_logistic_norm,x_train,x_test)   \n"
   ]
  },
  {
   "cell_type": "code",
   "execution_count": 84,
   "metadata": {},
   "outputs": [
    {
     "data": {
      "text/plain": [
       "0.5702679946802913"
      ]
     },
     "execution_count": 84,
     "metadata": {},
     "output_type": "execute_result"
    }
   ],
   "source": [
    "auc_score(y_train_pred_norm,y)"
   ]
  },
  {
   "cell_type": "markdown",
   "metadata": {},
   "source": [
    "Score did improve after normalizing to 0.5702679946802913"
   ]
  },
  {
   "cell_type": "code",
   "execution_count": 85,
   "metadata": {},
   "outputs": [],
   "source": [
    "write_predictions(\"predictions/logistic_regression_norm_\"+datetime.datetime.now().isoformat() + \".csv\",\"Id,Y\\n\",ids,y_test_pred_norm)"
   ]
  },
  {
   "cell_type": "markdown",
   "metadata": {},
   "source": [
    "### XGBoost\n",
    "\n",
    "Next I'll try using XGBoost Classifier"
   ]
  },
  {
   "cell_type": "code",
   "execution_count": 38,
   "metadata": {},
   "outputs": [],
   "source": [
    "from numpy import loadtxt\n",
    "import xgboost as xgb\n",
    "from xgboost import XGBClassifier\n",
    "from sklearn.model_selection import train_test_split\n",
    "from sklearn.metrics import accuracy_score"
   ]
  },
  {
   "cell_type": "code",
   "execution_count": 39,
   "metadata": {},
   "outputs": [
    {
     "data": {
      "text/plain": [
       "XGBClassifier(base_score=0.5, booster='gbtree', colsample_bylevel=1,\n",
       "       colsample_bytree=1, gamma=0, learning_rate=0.1, max_delta_step=0,\n",
       "       max_depth=3, min_child_weight=1, missing=None, n_estimators=100,\n",
       "       n_jobs=1, nthread=None, objective='binary:logistic', random_state=0,\n",
       "       reg_alpha=0, reg_lambda=1, scale_pos_weight=1, seed=None,\n",
       "       silent=True, subsample=1)"
      ]
     },
     "execution_count": 39,
     "metadata": {},
     "output_type": "execute_result"
    }
   ],
   "source": [
    "x_train,y,x_test,ids = get_train_test()\n",
    "model = XGBClassifier()\n",
    "model.fit(x_train,y)"
   ]
  },
  {
   "cell_type": "code",
   "execution_count": 40,
   "metadata": {},
   "outputs": [],
   "source": [
    "y_train_xgboost,y_test_xgboost = get_prediction_proba(model,x_train,x_test)"
   ]
  },
  {
   "cell_type": "code",
   "execution_count": 41,
   "metadata": {},
   "outputs": [
    {
     "data": {
      "text/plain": [
       "0.9057251451916913"
      ]
     },
     "execution_count": 41,
     "metadata": {},
     "output_type": "execute_result"
    }
   ],
   "source": [
    "auc_score(y_train_xgboost,y)"
   ]
  },
  {
   "cell_type": "code",
   "execution_count": 92,
   "metadata": {},
   "outputs": [],
   "source": [
    "write_predictions(\"predictions/xgboost_\"+datetime.datetime.now().isoformat() + \".csv\",\"Id,Y\\n\",ids,y_test_pred_norm)\n"
   ]
  },
  {
   "cell_type": "markdown",
   "metadata": {},
   "source": [
    "xgboost scored much better. I'll try xgboost with gaussian normalization preprocessing"
   ]
  },
  {
   "cell_type": "code",
   "execution_count": 42,
   "metadata": {},
   "outputs": [
    {
     "data": {
      "text/plain": [
       "XGBClassifier(base_score=0.5, booster='gbtree', colsample_bylevel=1,\n",
       "       colsample_bytree=1, gamma=0, learning_rate=0.1, max_delta_step=0,\n",
       "       max_depth=3, min_child_weight=1, missing=None, n_estimators=100,\n",
       "       n_jobs=1, nthread=None, objective='binary:logistic', random_state=0,\n",
       "       reg_alpha=0, reg_lambda=1, scale_pos_weight=1, seed=None,\n",
       "       silent=True, subsample=1)"
      ]
     },
     "execution_count": 42,
     "metadata": {},
     "output_type": "execute_result"
    }
   ],
   "source": [
    "x_train,y,x_test,ids = get_train_test()\n",
    "x_train = fill_nas_with_mean(x_train)\n",
    "x_train,x_test = gauss_norm_data(x_train,x_test)\n",
    "model_xg_boost_norm = XGBClassifier()\n",
    "model_xg_boost_norm.fit(x_train,y)"
   ]
  },
  {
   "cell_type": "code",
   "execution_count": 43,
   "metadata": {},
   "outputs": [],
   "source": [
    "y_train_norm_xgboost,y_test_norm_xgboost = get_prediction_proba(model_xg_boost_norm,x_train,x_test)\n"
   ]
  },
  {
   "cell_type": "code",
   "execution_count": 44,
   "metadata": {},
   "outputs": [
    {
     "data": {
      "text/plain": [
       "0.9057251451916913"
      ]
     },
     "execution_count": 44,
     "metadata": {},
     "output_type": "execute_result"
    }
   ],
   "source": [
    "auc_score(y_train_norm_xgboost,y)"
   ]
  },
  {
   "cell_type": "markdown",
   "metadata": {},
   "source": [
    "Didn't really see an improvement in the auc score or when submitting the predictions"
   ]
  },
  {
   "cell_type": "code",
   "execution_count": 99,
   "metadata": {},
   "outputs": [],
   "source": [
    "write_predictions(\"predictions/xgboost_norm_\"+datetime.datetime.now().isoformat() + \".csv\",\"Id,Y\\n\",ids,y_test_norm_xgboost)\n"
   ]
  },
  {
   "cell_type": "markdown",
   "metadata": {},
   "source": [
    "Next I'll try optimizing the hyper parameters of xgboost"
   ]
  },
  {
   "cell_type": "code",
   "execution_count": 45,
   "metadata": {},
   "outputs": [
    {
     "data": {
      "text/plain": [
       "XGBClassifier(base_score=0.5, booster='gbtree', colsample_bylevel=1,\n",
       "       colsample_bytree=0.5, eval_metric='auc', gamma=0, learning_rate=0.1,\n",
       "       max_delta_step=0, max_depth=7, min_child_weight=3, missing=None,\n",
       "       n_estimators=700, n_jobs=1, nthread=4, objective='binary:logistic',\n",
       "       random_state=0, reg_alpha=0, reg_lambda=1, scale_pos_weight=1,\n",
       "       seed=1301, silent=True, subsample=1.0)"
      ]
     },
     "execution_count": 45,
     "metadata": {},
     "output_type": "execute_result"
    }
   ],
   "source": [
    "x_train,y,x_test,ids = get_train_test()\n",
    "clf = xgb.XGBClassifier(\n",
    "                max_depth = 7,\n",
    "                n_estimators=700,\n",
    "                learning_rate=0.1, \n",
    "                nthread=4,\n",
    "                subsample=1.0,\n",
    "                colsample_bytree=0.5,\n",
    "                min_child_weight = 3,\n",
    "                seed=1301,\n",
    "                objective='binary:logistic',\n",
    "                eval_metric='auc')\n",
    "clf.fit(x_train,y)"
   ]
  },
  {
   "cell_type": "code",
   "execution_count": 46,
   "metadata": {},
   "outputs": [],
   "source": [
    "y_train,y_test = get_prediction_proba(clf,x_train,x_test)"
   ]
  },
  {
   "cell_type": "code",
   "execution_count": 47,
   "metadata": {},
   "outputs": [
    {
     "data": {
      "text/plain": [
       "0.9999991799010141"
      ]
     },
     "execution_count": 47,
     "metadata": {},
     "output_type": "execute_result"
    }
   ],
   "source": [
    "auc_score(y_train,y)"
   ]
  },
  {
   "cell_type": "code",
   "execution_count": 20,
   "metadata": {},
   "outputs": [],
   "source": [
    "write_predictions(\"predictions/xgboost_\"+datetime.datetime.now().isoformat() + \".csv\",\"Id,Y\\n\",ids,y_test)\n"
   ]
  },
  {
   "cell_type": "markdown",
   "metadata": {},
   "source": [
    "This prediction had a score of 0.88843! Nice! "
   ]
  },
  {
   "cell_type": "code",
   "execution_count": 56,
   "metadata": {},
   "outputs": [
    {
     "data": {
      "text/plain": [
       "<matplotlib.axes._subplots.AxesSubplot at 0x7f8f8dad6c50>"
      ]
     },
     "execution_count": 56,
     "metadata": {},
     "output_type": "execute_result"
    },
    {
     "data": {
      "image/png": "[encoded data removed]",
      "text/plain": [
       "<Figure size 432x288 with 1 Axes>"
      ]
     },
     "metadata": {
      "needs_background": "light"
     },
     "output_type": "display_data"
    }
   ],
   "source": [
    "xgb.plot_importance(clf)"
   ]
  },
  {
   "cell_type": "code",
   "execution_count": 80,
   "metadata": {},
   "outputs": [
    {
     "data": {
      "text/plain": [
       "array([0.00076153, 0.00099584, 0.00105442, 0.00128874, 0.00128874,\n",
       "       0.00140589, 0.00175737, 0.00187452, 0.00216742, 0.00228458,\n",
       "       0.02483744, 0.0263605 , 0.0263605 , 0.02747349, 0.03450296,\n",
       "       0.04118095, 0.05834456, 0.06197645, 0.07445375, 0.07749985,\n",
       "       0.11141703, 0.13068947, 0.13842188, 0.15160213], dtype=float32)"
      ]
     },
     "execution_count": 80,
     "metadata": {},
     "output_type": "execute_result"
    }
   ],
   "source": [
    "np.sort(clf.feature_importances_)"
   ]
  },
  {
   "cell_type": "markdown",
   "metadata": {},
   "source": [
    "It looks like some features are much more important than others. I'll try to throw away the less important features"
   ]
  },
  {
   "cell_type": "code",
   "execution_count": 82,
   "metadata": {},
   "outputs": [
    {
     "data": {
      "text/plain": [
       "(16383, 14)"
      ]
     },
     "execution_count": 82,
     "metadata": {},
     "output_type": "execute_result"
    }
   ],
   "source": [
    "from sklearn.feature_selection import SelectFromModel\n",
    "f_score_thresh = 0.01\n",
    "selection = SelectFromModel(clf,threshold=f_score_thresh,prefit=True)\n",
    "x_train,y,x_test,ids = get_train_test()\n",
    "x_train = fill_nas_with_mean(x_train)\n",
    "x_train,x_test = gauss_norm_data(x_train,x_test)\n",
    "selection_x_train = selection.transform(x_train)\n",
    "selection_x_train.shape"
   ]
  },
  {
   "cell_type": "markdown",
   "metadata": {},
   "source": [
    "The data now only has 14 columns. \n",
    "Now train a model with the selected features"
   ]
  },
  {
   "cell_type": "code",
   "execution_count": 83,
   "metadata": {},
   "outputs": [],
   "source": [
    "clf_selected = xgb.XGBClassifier(\n",
    "                max_depth = 7,\n",
    "                n_estimators=700,\n",
    "                learning_rate=0.1, \n",
    "                nthread=4,\n",
    "                subsample=1.0,\n",
    "                colsample_bytree=0.5,\n",
    "                min_child_weight = 3,\n",
    "                seed=1301,\n",
    "                objective='binary:logistic',\n",
    "                eval_metric='auc')"
   ]
  },
  {
   "cell_type": "code",
   "execution_count": 84,
   "metadata": {},
   "outputs": [
    {
     "data": {
      "text/plain": [
       "XGBClassifier(base_score=0.5, booster='gbtree', colsample_bylevel=1,\n",
       "       colsample_bytree=0.5, eval_metric='auc', gamma=0, learning_rate=0.1,\n",
       "       max_delta_step=0, max_depth=7, min_child_weight=3, missing=None,\n",
       "       n_estimators=700, n_jobs=1, nthread=4, objective='binary:logistic',\n",
       "       random_state=0, reg_alpha=0, reg_lambda=1, scale_pos_weight=1,\n",
       "       seed=1301, silent=True, subsample=1.0)"
      ]
     },
     "execution_count": 84,
     "metadata": {},
     "output_type": "execute_result"
    }
   ],
   "source": [
    "clf_selected.fit(selection_x_train,y)"
   ]
  },
  {
   "cell_type": "code",
   "execution_count": 85,
   "metadata": {},
   "outputs": [
    {
     "data": {
      "text/plain": [
       "0.999996172871399"
      ]
     },
     "execution_count": 85,
     "metadata": {},
     "output_type": "execute_result"
    }
   ],
   "source": [
    "selection_x_test = selection.transform(x_test)\n",
    "y_train_selected,y_test = get_prediction_proba(clf_selected,selection_x_train,selection_x_test)\n",
    "auc_score(y_train_selected,y)"
   ]
  },
  {
   "cell_type": "code",
   "execution_count": 86,
   "metadata": {},
   "outputs": [
    {
     "data": {
      "text/plain": [
       "<matplotlib.axes._subplots.AxesSubplot at 0x7f8f8d4beb70>"
      ]
     },
     "execution_count": 86,
     "metadata": {},
     "output_type": "execute_result"
    },
    {
     "data": {
      "image/png": "[encoded data removed]",
      "text/plain": [
       "<Figure size 432x288 with 1 Axes>"
      ]
     },
     "metadata": {
      "needs_background": "light"
     },
     "output_type": "display_data"
    }
   ],
   "source": [
    "xgb.plot_importance(clf_selected)"
   ]
  },
  {
   "cell_type": "code",
   "execution_count": 87,
   "metadata": {},
   "outputs": [],
   "source": [
    "write_predictions(\"predictions/xgboost_selected_\"+datetime.datetime.now().isoformat() + \".csv\",\"Id,Y\\n\",ids,y_test)\n"
   ]
  },
  {
   "cell_type": "markdown",
   "metadata": {},
   "source": [
    "This had a score of .88643, not a improvement"
   ]
  },
  {
   "cell_type": "code",
   "execution_count": null,
   "metadata": {},
   "outputs": [],
   "source": []
  }
 ],
 "metadata": {
  "kernelspec": {
   "display_name": "Python 3",
   "language": "python",
   "name": "python3"
  },
  "language_info": {
   "codemirror_mode": {
    "name": "ipython",
    "version": 3
   },
   "file_extension": ".py",
   "mimetype": "text/x-python",
   "name": "python",
   "nbconvert_exporter": "python",
   "pygments_lexer": "ipython3",
   "version": "3.6.7"
  }
 },
 "nbformat": 4,
 "nbformat_minor": 2
}
